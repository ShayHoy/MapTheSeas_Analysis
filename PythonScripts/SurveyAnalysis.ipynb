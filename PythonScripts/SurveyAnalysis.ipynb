{
 "cells": [
  {
   "cell_type": "code",
   "execution_count": 24,
   "metadata": {
    "collapsed": true
   },
   "outputs": [
    {
     "ename": "ModuleNotFoundError",
     "evalue": "No module named 'geopy'",
     "traceback": [
      "\u001b[0;31m---------------------------------------------------------------------------\u001b[0m",
      "\u001b[0;31mModuleNotFoundError\u001b[0m                       Traceback (most recent call last)",
      "\u001b[0;32m<ipython-input-24-e8b8c40f6e28>\u001b[0m in \u001b[0;36m<module>\u001b[0;34m()\u001b[0m\n\u001b[1;32m      1\u001b[0m \u001b[0;32mimport\u001b[0m \u001b[0mpandas\u001b[0m \u001b[0;32mas\u001b[0m \u001b[0mpd\u001b[0m\u001b[0;34m\u001b[0m\u001b[0m\n\u001b[0;32m----> 2\u001b[0;31m \u001b[0;32mfrom\u001b[0m \u001b[0mgeopy\u001b[0m\u001b[0;34m.\u001b[0m\u001b[0mgeocoders\u001b[0m \u001b[0;32mimport\u001b[0m \u001b[0mNominatim\u001b[0m\u001b[0;34m\u001b[0m\u001b[0m\n\u001b[0m\u001b[1;32m      3\u001b[0m \u001b[0;34m\u001b[0m\u001b[0m\n",
      "\u001b[0;31mModuleNotFoundError\u001b[0m: No module named 'geopy'"
     ],
     "output_type": "error"
    }
   ],
   "source": [
    "import pandas as pd\n",
    "from geopy.geocoders import Nominatim\n",
    "\n"
   ]
  },
  {
   "cell_type": "code",
   "execution_count": 23,
   "metadata": {},
   "outputs": [],
   "source": [
    "survey = pd.read_csv('/home/mapper/SurveyMonkey/MapTheSeas/AllResponses/Data_All_Responses_180315/CSV/Help us create up-to-date maps of the seas.csv', skiprows=0-2, header=0)"
   ]
  },
  {
   "cell_type": "code",
   "execution_count": 18,
   "metadata": {},
   "outputs": [],
   "source": [
    "location = survey.iloc[:, 10]"
   ]
  },
  {
   "cell_type": "code",
   "execution_count": 19,
   "metadata": {},
   "outputs": [
    {
     "data": {
      "text/plain": [
       "<bound method NDFrame.head of 0                                    Open-Ended Response\n1                              Atlantic, North Carolina \n2                                          San Francisco\n3                                             Mystic, CT\n4                                    South Toms River NJ\n5                                   Isleton, California \n6                                            Norfolk, VA\n7                                          Milwaukee, WI\n8                                   Gloucester Point, VA\n9                                            Chelsea, NY\n10                                    Southampton, Hants\n11                                 Bainbridge Island, WA\n12                                       New Bedford Ma.\n13                                           Kemah,Texas\n14                                           Niantic, CT\n15                                        Oak Harbor, WA\n16                                  Deltaville, Virginia\n17                                        Wilmington, NC\n18                                  Ponce Inlet, Florida\n19                                          Bullfrog, UT\n20                                           Everett, WA\n21                                           Newport, RI\n22                                    Rock Hall, Marylan\n23         Phoenix, Arizona.  Yes we have water here.z%§\n24                                            Monroe, MI\n25                                     Catawba Island OH\n26                                    Burlington vermont\n27                                       King George, VA\n28                                            Urbana, VA\n29                                           Wareham, MA\n                             ...                        \n100                     Full time cruiser - no home port\n101                                St. Augustine Florida\n102                                       Savusavu, Fiji\n103                                          Seattle, WA\n104                                             Seabrook\n105                                       Burlington, VT\n106    Charlotte VT      (near Burlington on Lake Cha...\n107                                          Kittery, ME\n108                                          Kenmore, WA\n109                                            Dover, NH\n110                                      Deer Harbor, WA\n111                                       Bellingham, WA\n112                                        Greenport, NY\n113                                           Woods hole\n114                                       Woods Hole, MA\n115                                       Woods Hole, MA\n116                                       woods hole, ma\n117                                         Falmouth, MA\n118                                                  NaN\n119                                  Seattle, Washington\n120                                                  NaN\n121                                           Durham, NH\n122                                     Philadelphia, PA\n123                                       Alexandria, VA\n124                                       Charleston, SC\n125                                       Woods Hole, MA\n126                                              Seattle\n127                                       Charleston, SC\n128                                         newmarket nh\n129                                          Newport, RI\nName: Where is your local port (City, State)?, Length: 130, dtype: object>"
      ]
     },
     "execution_count": 19,
     "metadata": {},
     "output_type": "execute_result"
    }
   ],
   "source": [
    "location.head"
   ]
  },
  {
   "cell_type": "code",
   "execution_count": null,
   "metadata": {},
   "outputs": [],
   "source": []
  }
 ],
 "metadata": {
  "kernelspec": {
   "display_name": "Python 2",
   "language": "python",
   "name": "python2"
  },
  "language_info": {
   "codemirror_mode": {
    "name": "ipython",
    "version": 2
   },
   "file_extension": ".py",
   "mimetype": "text/x-python",
   "name": "python",
   "nbconvert_exporter": "python",
   "pygments_lexer": "ipython2",
   "version": "2.7.6"
  }
 },
 "nbformat": 4,
 "nbformat_minor": 0
}

{
 "cells": [
  {
   "cell_type": "code",
   "execution_count": 4,
   "metadata": {
    "collapsed": true
   },
   "outputs": [],
   "source": [
    "import pandas as pd\n",
    "from shapely.geometry import Point\n",
    "import geopandas as gpd"
   ]
  },
  {
   "cell_type": "code",
   "execution_count": 5,
   "metadata": {},
   "outputs": [],
   "source": [
    "file = '/home/mapper/SurveyMonkey/MapTheSeas/EditedData/Location_geocode.csv'\n",
    "DF = pd.read_csv(file)\n",
    "\n",
    "# combine lat and lon column to a shapely Point() object\n",
    "geometry = [Point(xy) for xy in zip(DF.Longitude, DF.Latitude)]\n",
    "\n",
    "crs = {'init': 'epsg:4326'}\n",
    "GDF = gpd.GeoDataFrame(DF, crs=crs, geometry=geometry)\n",
    "GDF.crs = {'init': 'epsg:4326'}"
   ]
  },
  {
   "cell_type": "code",
   "execution_count": 6,
   "metadata": {},
   "outputs": [],
   "source": [
    "GDF.to_file('/home/mapper/SurveyMonkey/MapTheSeas/Products/Locations.shp')"
   ]
  },
  {
   "cell_type": "code",
   "execution_count": null,
   "metadata": {},
   "outputs": [],
   "source": []
  }
 ],
 "metadata": {
  "kernelspec": {
   "display_name": "Python 2",
   "language": "python",
   "name": "python2"
  },
  "language_info": {
   "codemirror_mode": {
    "name": "ipython",
    "version": 2
   },
   "file_extension": ".py",
   "mimetype": "text/x-python",
   "name": "python",
   "nbconvert_exporter": "python",
   "pygments_lexer": "ipython2",
   "version": "2.7.6"
  }
 },
 "nbformat": 4,
 "nbformat_minor": 0
}
